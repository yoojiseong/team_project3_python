{
 "cells": [
  {
   "cell_type": "code",
   "id": "initial_id",
   "metadata": {
    "collapsed": true,
    "ExecuteTime": {
     "end_time": "2025-10-25T09:45:27.053294Z",
     "start_time": "2025-10-25T09:45:25.347253Z"
    }
   },
   "source": [
    "import pandas as pd\n",
    "\n",
    "# 1. [설정] 크롤링으로 저장한 원본 파일 이름\n",
    "# (예: 'data_2_2020_10_21_large.csv' 또는 'icecream_sales_data.csv')\n",
    "original_file_name = \"data4.csv\"\n",
    "\n",
    "# 2. [설정] 필터링 후 새로 저장할 파일 이름\n",
    "filtered_file_name = \"seoul_only/data_4_seoul_only.csv\"\n",
    "\n",
    "try:\n",
    "    # --- 1. 원본 CSV 파일 읽어오기 ---\n",
    "    print(f\"원본 파일 '{original_file_name}'을(를) 읽어오는 중입니다...\")\n",
    "    # (데이터가 매우 클 경우 시간이 조금 걸릴 수 있습니다)\n",
    "    df = pd.read_csv(original_file_name)\n",
    "\n",
    "    print(f\"파일 읽기 완료. (총 {len(df)}건)\")\n",
    "    # print(df.head()) # 상위 5개 데이터 확인 (옵션)\n",
    "\n",
    "    # --- 2. \"시도명\" 열(Column)로 필터링 ---\n",
    "    # (이미지에서 컬럼명이 '시도명'인 것을 확인했습니다)\n",
    "    print(\"'시도명'이 '서울특별시'인 데이터만 필터링합니다...\")\n",
    "\n",
    "    # [핵심] '시도명' 컬럼의 값이 '서울특별시'와 일치하는 행만 선택\n",
    "    seoul_df = df[df['brtc_nm'] == '서울특별시']\n",
    "\n",
    "    # --- 3. 필터링된 결과를 새 CSV 파일로 저장 ---\n",
    "    if len(seoul_df) > 0:\n",
    "        print(f\"필터링 완료. {len(seoul_df)}건의 서울시 데이터를 '{filtered_file_name}'(으)로 저장합니다.\")\n",
    "\n",
    "        # index=False: 엑셀에서 불필요한 첫 번째 인덱스 열 제외\n",
    "        # encoding='utf-8-sig': 한글 깨짐 방지\n",
    "        seoul_df.to_csv(filtered_file_name, index=False, encoding='utf-8-sig')\n",
    "\n",
    "        print(f\"'{filtered_file_name}' 저장 성공!\")\n",
    "    else:\n",
    "        print(\"필터링 결과, '서울특별시' 데이터가 없습니다.\")\n",
    "\n",
    "except FileNotFoundError:\n",
    "    print(f\"[오류] '{original_file_name}' 파일을 찾을 수 없습니다. 파일 이름을 확인하세요.\")\n",
    "except KeyError:\n",
    "    print(\"[오류] '시도명'이라는 컬럼(열)을 찾을 수 없습니다. CSV 파일의 헤더를 확인하세요.\")\n",
    "except Exception as e:\n",
    "    print(f\"작업 중 알 수 없는 오류가 발생했습니다: {e}\")"
   ],
   "outputs": [
    {
     "name": "stdout",
     "output_type": "stream",
     "text": [
      "원본 파일 'data4.csv'을(를) 읽어오는 중입니다...\n",
      "파일 읽기 완료. (총 1947254건)\n",
      "'시도명'이 '서울특별시'인 데이터만 필터링합니다...\n",
      "필터링 완료. 594659건의 서울시 데이터를 'data_4_seoul_only.csv'(으)로 저장합니다.\n",
      "'data_4_seoul_only.csv' 저장 성공!\n"
     ]
    }
   ],
   "execution_count": 9
  },
  {
   "metadata": {
    "ExecuteTime": {
     "end_time": "2025-10-25T09:46:59.242634Z",
     "start_time": "2025-10-25T09:46:58.189256Z"
    }
   },
   "cell_type": "code",
   "source": [
    "import pandas as pd\n",
    "import os\n",
    "\n",
    "# 1. [설정] 데이터 폴더\n",
    "data_folder = \"seoul_only\"\n",
    "\n",
    "# 2. [설정] 입력 파일 (서울시 데이터만 필터링된 파일)\n",
    "input_file_basename = \"data_4_seoul_only.csv\"\n",
    "\n",
    "# 3. [설정] 정렬 후 새로 저장할 파일\n",
    "output_file_basename = \"data4_sorted_asc.csv\"\n",
    "\n",
    "# --- 파일 경로 설정 ---\n",
    "input_path = os.path.join(data_folder, input_file_basename)\n",
    "output_path = os.path.join(data_folder, output_file_basename)\n",
    "\n",
    "# 4. [설정] 정렬할 기준이 되는 열(Column) 이름\n",
    "# (이전 이미지에서 '20200915'가 있는 열의 헤더는 '기준일자'였습니다)\n",
    "sort_column_name = 'de'\n",
    "\n",
    "try:\n",
    "    # --- 1. 서울시 데이터 파일 읽기 ---\n",
    "    print(f\"파일 읽는 중: '{input_path}'\")\n",
    "    df = pd.read_csv(input_path)\n",
    "    print(f\"파일 읽기 완료. (총 {len(df)}건)\")\n",
    "\n",
    "    # --- 2. [핵심] '기준일자' 열을 기준으로 내림차순 정렬 ---\n",
    "    print(f\"'{sort_column_name}' 열을 기준으로 내림차순 정렬 중...\")\n",
    "\n",
    "    # ascending=False는 '내림차순' (Descending)을 의미합니다.\n",
    "    sorted_df = df.sort_values(by=sort_column_name, ascending=True)\n",
    "\n",
    "    print(\"정렬 완료.\")\n",
    "\n",
    "    # --- 3. 정렬된 결과를 새 CSV 파일로 저장 ---\n",
    "    print(f\"정렬된 데이터를 '{output_path}' 파일로 저장 중...\")\n",
    "    sorted_df.to_csv(output_path, index=False, encoding='utf-8-sig')\n",
    "\n",
    "    print(f\"[성공] '{output_path}' 파일 저장 완료!\")\n",
    "\n",
    "    # --- 4. 정렬 결과 확인 (상위 10개 행 출력) ---\n",
    "    print(\"\\n--- 정렬된 데이터 (상위 10개) ---\")\n",
    "    print(sorted_df.head(10))\n",
    "\n",
    "\n",
    "except FileNotFoundError:\n",
    "    print(f\"[오류] '{input_path}' 파일을 찾을 수 없습니다. 파일 이름을 확인하세요.\")\n",
    "except KeyError:\n",
    "    print(f\"[오류] '{sort_column_name}' 컬럼을 찾을 수 없습니다. CSV 파일의 헤더를 확인하세요.\")\n",
    "except Exception as e:\n",
    "    print(f\"작업 중 알 수 없는 오류가 발생했습니다: {e}\")"
   ],
   "id": "32b19955b684eb72",
   "outputs": [
    {
     "name": "stdout",
     "output_type": "stream",
     "text": [
      "파일 읽는 중: 'seoul_only\\data_4_seoul_only.csv'\n",
      "파일 읽기 완료. (총 594659건)\n",
      "'de' 열을 기준으로 내림차순 정렬 중...\n",
      "정렬 완료.\n",
      "정렬된 데이터를 'seoul_only\\data4_sorted_asc.csv' 파일로 저장 중...\n",
      "[성공] 'seoul_only\\data4_sorted_asc.csv' 파일 저장 완료!\n",
      "\n",
      "--- 정렬된 데이터 (상위 10개) ---\n",
      "         gov_dn_cd brtc_nm signgu_nm adstrd_nm        de sex_se year_se  \\\n",
      "228553  1138055200   서울특별시       은평구      갈현2동  20190801      F      40   \n",
      "228554  1138055200   서울특별시       은평구      갈현2동  20190801      F      45   \n",
      "228555  1138055200   서울특별시       은평구      갈현2동  20190801      F      50   \n",
      "147438  1129065000   서울특별시       성북구      정릉4동  20190801      F      30   \n",
      "147439  1129065000   서울특별시       성북구      정릉4동  20190801      F      35   \n",
      "147440  1129065000   서울특별시       성북구      정릉4동  20190801      F      40   \n",
      "147441  1129065000   서울특별시       성북구      정릉4동  20190801      F      45   \n",
      "147442  1129065000   서울특별시       성북구      정릉4동  20190801      F      50   \n",
      "147449  1129065000   서울특별시       성북구      정릉4동  20190801      M      55   \n",
      "147450  1129065000   서울특별시       성북구      정릉4동  20190801      M      70   \n",
      "\n",
      "        cnsmr_popltn_co  \n",
      "228553               81  \n",
      "228554               89  \n",
      "228555              140  \n",
      "147438               22  \n",
      "147439               44  \n",
      "147440               44  \n",
      "147441               59  \n",
      "147442               30  \n",
      "147449               37  \n",
      "147450               22  \n"
     ]
    }
   ],
   "execution_count": 11
  }
 ],
 "metadata": {
  "kernelspec": {
   "display_name": "Python 3",
   "language": "python",
   "name": "python3"
  },
  "language_info": {
   "codemirror_mode": {
    "name": "ipython",
    "version": 2
   },
   "file_extension": ".py",
   "mimetype": "text/x-python",
   "name": "python",
   "nbconvert_exporter": "python",
   "pygments_lexer": "ipython2",
   "version": "2.7.6"
  }
 },
 "nbformat": 4,
 "nbformat_minor": 5
}
