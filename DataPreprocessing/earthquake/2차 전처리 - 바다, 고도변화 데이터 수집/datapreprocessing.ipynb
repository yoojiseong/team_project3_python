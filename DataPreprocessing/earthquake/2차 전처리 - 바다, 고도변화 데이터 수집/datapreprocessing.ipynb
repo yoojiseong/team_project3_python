{
 "cells": [
  {
   "cell_type": "code",
   "id": "initial_id",
   "metadata": {
    "collapsed": true,
    "ExecuteTime": {
     "end_time": "2025-10-30T17:11:09.141081Z",
     "start_time": "2025-10-30T17:11:09.131524Z"
    }
   },
   "source": [
    "import pandas as pd\n",
    "\n",
    "# 1. 파일 읽기\n",
    "try:\n",
    "    df = pd.read_csv('train_data_with_elevation.csv')\n",
    "    print(f\"파일 읽기 성공: 'train_data_with_elevation.csv' (총 {len(df)}행)\")\n",
    "except FileNotFoundError:\n",
    "    print(\"오류: 'train_data_with_elevation.csv' 파일을 찾을 수 없습니다.\")\n",
    "    print(\"스크립트와 같은 폴더에 있는지 확인하세요.\")\n",
    "    exit()\n",
    "\n",
    "\n",
    "# 2. 'is_ocean'과 'is_steep_slope' 열을 정수(int)로 변환\n",
    "#    (True -> 1, False -> 0)\n",
    "if 'is_ocean' in df.columns:\n",
    "    df['is_ocean'] = df['is_ocean'].astype(int)\n",
    "    print(\"'is_ocean' 열을 정수로 변환했습니다. (True->1, False->0)\")\n",
    "else:\n",
    "    print(\"경고: 'is_ocean' 열이 없습니다.\")\n",
    "\n",
    "if 'is_steep_slope' in df.columns:\n",
    "    df['is_steep_slope'] = df['is_steep_slope'].astype(int)\n",
    "    print(\"'is_steep_slope' 열을 정수로 변환했습니다. (True->1, False->0)\")\n",
    "else:\n",
    "    print(\"경고: 'is_steep_slope' 열이 없습니다.\")\n",
    "\n",
    "\n",
    "# 3. (추가된 코드) 'nst', 'Year', 'Month' 컬럼 제거\n",
    "cols_to_drop = ['nst', 'Year', 'Month']\n",
    "existing_cols_to_drop = [col for col in cols_to_drop if col in df.columns]\n",
    "\n",
    "if existing_cols_to_drop:\n",
    "    df = df.drop(columns=existing_cols_to_drop)\n",
    "    print(f\"\\n'{', '.join(existing_cols_to_drop)}' 컬럼을 제거했습니다.\")\n",
    "else:\n",
    "    print(f\"\\n제거할 컬럼({', '.join(cols_to_drop)})이 이미 없습니다.\")\n",
    "\n",
    "\n",
    "# 4. 변경된 결과 (컬럼 목록) 확인\n",
    "print(\"\\n--- 최종 컬럼 목록 ---\")\n",
    "print(list(df.columns))\n",
    "\n",
    "\n",
    "# 5. 새 파일로 저장\n",
    "output_filename = 'train_data_processed.csv'\n",
    "df.to_csv(output_filename, index=False)\n",
    "\n",
    "print(f\"\\n모든 전처리가 완료된 데이터를 '{output_filename}' 파일로 저장했습니다.\")\n",
    "\n",
    "print(\"\\n--- 전처리 완료된 데이터 상위 5개 ---\")\n",
    "print(df.head().to_markdown(index=False))"
   ],
   "outputs": [
    {
     "name": "stdout",
     "output_type": "stream",
     "text": [
      "파일 읽기 성공: 'train_data_with_elevation.csv' (총 782행)\n",
      "'is_ocean' 열을 정수로 변환했습니다. (True->1, False->0)\n",
      "'is_steep_slope' 열을 정수로 변환했습니다. (True->1, False->0)\n",
      "\n",
      "'nst, Year, Month' 컬럼을 제거했습니다.\n",
      "\n",
      "--- 최종 컬럼 목록 ---\n",
      "['magnitude', 'dmin', 'gap', 'depth', 'latitude', 'longitude', 'tsunami', 'is_ocean', 'is_steep_slope']\n",
      "\n",
      "모든 전처리가 완료된 데이터를 'train_data_processed.csv' 파일로 저장했습니다.\n",
      "\n",
      "--- 전처리 완료된 데이터 상위 5개 ---\n",
      "|   magnitude |   dmin |   gap |   depth |   latitude |   longitude |   tsunami |   is_ocean |   is_steep_slope |\n",
      "|------------:|-------:|------:|--------:|-----------:|------------:|----------:|-----------:|-----------------:|\n",
      "|         7   |  0.509 |    17 |  14     |    -9.7963 |     159.596 |         1 |          1 |                1 |\n",
      "|         6.9 |  2.229 |    34 |  25     |    -4.9559 |     100.738 |         0 |          1 |                1 |\n",
      "|         7   |  3.125 |    18 | 579     |   -20.0508 |    -178.346 |         1 |          1 |                1 |\n",
      "|         7.3 |  1.865 |    21 |  37     |   -19.2918 |    -172.129 |         1 |          1 |                1 |\n",
      "|         6.6 |  4.998 |    27 | 624.464 |   -25.5948 |     178.278 |         1 |          1 |                0 |\n"
     ]
    }
   ],
   "execution_count": 3
  }
 ],
 "metadata": {
  "kernelspec": {
   "display_name": "Python 3",
   "language": "python",
   "name": "python3"
  },
  "language_info": {
   "codemirror_mode": {
    "name": "ipython",
    "version": 2
   },
   "file_extension": ".py",
   "mimetype": "text/x-python",
   "name": "python",
   "nbconvert_exporter": "python",
   "pygments_lexer": "ipython2",
   "version": "2.7.6"
  }
 },
 "nbformat": 4,
 "nbformat_minor": 5
}
