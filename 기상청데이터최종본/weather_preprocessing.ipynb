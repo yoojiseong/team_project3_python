{
 "cells": [
  {
   "cell_type": "code",
   "id": "initial_id",
   "metadata": {
    "collapsed": true,
    "ExecuteTime": {
     "end_time": "2025-10-26T14:03:07.886574Z",
     "start_time": "2025-10-26T14:03:07.871078Z"
    }
   },
   "source": [
    "import pandas as pd\n",
    "df = pd.read_csv('weather_combined_1908-1910.csv')\n",
    "df['날짜'] = df['날짜'].str.replace('-', '')\n",
    "df = df.rename(columns={'날짜': '기준일자'})\n",
    "df.to_csv('weather_combined_1908-1910.csv', index=False, encoding='utf-8-sig')\n",
    "print(df)"
   ],
   "outputs": [
    {
     "name": "stdout",
     "output_type": "stream",
     "text": [
      "        기준일자  평균기온  최고기온   강수량  평균습도\n",
      "0   20190801  26.3  30.1  26.9  86.4\n",
      "1   20190802  28.4  33.1   0.0  74.6\n",
      "2   20190803  29.4  36.0   3.0  69.0\n",
      "3   20190804  28.3  34.4   8.6  75.9\n",
      "4   20190805  30.5  35.9   0.0  65.5\n",
      "..       ...   ...   ...   ...   ...\n",
      "87  20191027  11.0  17.4   0.0  59.0\n",
      "88  20191028  12.9  17.7   1.7  65.9\n",
      "89  20191029  12.5  17.6   0.1  61.0\n",
      "90  20191030  11.2  17.7   0.0  60.3\n",
      "91  20191031  14.8  19.7   0.0  73.8\n",
      "\n",
      "[92 rows x 5 columns]\n"
     ]
    }
   ],
   "execution_count": 7
  },
  {
   "metadata": {},
   "cell_type": "code",
   "outputs": [],
   "execution_count": null,
   "source": "",
   "id": "7133b95ca2212814"
  }
 ],
 "metadata": {
  "kernelspec": {
   "display_name": "Python 3",
   "language": "python",
   "name": "python3"
  },
  "language_info": {
   "codemirror_mode": {
    "name": "ipython",
    "version": 2
   },
   "file_extension": ".py",
   "mimetype": "text/x-python",
   "name": "python",
   "nbconvert_exporter": "python",
   "pygments_lexer": "ipython2",
   "version": "2.7.6"
  }
 },
 "nbformat": 4,
 "nbformat_minor": 5
}
