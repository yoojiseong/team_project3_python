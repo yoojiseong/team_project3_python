{
 "cells": [
  {
   "cell_type": "code",
   "id": "initial_id",
   "metadata": {
    "collapsed": true,
    "ExecuteTime": {
     "end_time": "2025-11-01T10:22:38.206564Z",
     "start_time": "2025-11-01T10:22:33.907527Z"
    }
   },
   "source": [
    "import pandas as pd\n",
    "import numpy as np\n",
    "from sklearn.model_selection import train_test_split\n",
    "from sklearn.preprocessing import StandardScaler\n",
    "from sklearn.metrics import accuracy_score, confusion_matrix, classification_report\n",
    "from sklearn.utils import class_weight # ★ 딥러NING에서 불균형 데이터 처리를 위해 추가\n",
    "\n",
    "import tensorflow as tf\n",
    "from tensorflow.keras.models import Sequential\n",
    "from tensorflow.keras.layers import Dense, Dropout\n",
    "\n",
    "# --- 0. 데이터 불러오기 ---\n",
    "file_name = '../../DataPreprocessing/earthquake/3차 전처리 - 단층 이동 데이터/TEST_train_data_final_with_fault_counts_past_year_full_month.csv'\n",
    "try:\n",
    "    df = pd.read_csv(file_name)\n",
    "except FileNotFoundError:\n",
    "    print(f\"오류: '{file_name}' 파일을 찾을 수 없습니다.\")\n",
    "    exit()\n",
    "\n",
    "print(f\"'{file_name}' 파일 (총 {len(df)}행)을 성공적으로 불러왔습니다.\")\n",
    "\n",
    "# --- 1. 전처리 ---\n",
    "if 'is_ocean' in df.columns:\n",
    "    df['is_ocean'] = df['is_ocean'].apply(lambda x: 1 if (x == True or str(x).lower() == 'true') else 0)\n",
    "if 'is_steep_slope' in df.columns:\n",
    "    df['is_steep_slope'] = df['is_steep_slope'].apply(lambda x: 1 if (x == True or str(x).lower() == 'true') else 0)\n",
    "\n",
    "# --- 2. 특성(X)과 타겟(y) 정의 ---\n",
    "feature_names = [\n",
    "    'magnitude',\n",
    "    'depth',\n",
    "    'is_ocean',\n",
    "    'is_steep_slope',\n",
    "    'horizontal_count_1y_full',\n",
    "    'vertical_count_1y_full'\n",
    "]\n",
    "df_model = df[feature_names + ['tsunami']].dropna()\n",
    "X = df_model[feature_names]\n",
    "y = df_model['tsunami']\n",
    "\n",
    "print(f\"\\n총 {len(df_model)}개의 데이터로 모델링을 시작합니다.\")\n",
    "\n",
    "# --- 3. 훈련 / 테스트 데이터 분리 ---\n",
    "X_train, X_test, y_train, y_test = train_test_split(\n",
    "    X, y, test_size=0.2, random_state=42, stratify=y\n",
    ")\n",
    "print(f\"훈련 데이터: {len(X_train)}개 / 테스트 데이터: {len(X_test)}개\")\n",
    "\n",
    "# --- 4. 데이터 스케일링 ---\n",
    "scaler = StandardScaler()\n",
    "X_train_scaled = scaler.fit_transform(X_train)\n",
    "X_test_scaled = scaler.transform(X_test)\n",
    "\n",
    "# ★ (추가) 불균형 데이터 가중치 계산 (로지스틱의 class_weight='balanced'와 동일한 역할)\n",
    "# 0(쓰나미X)이 1(쓰나미O)보다 많으므로, 1에 더 높은 가중치를 줌\n",
    "weights = class_weight.compute_class_weight('balanced', classes=np.unique(y_train), y=y_train)\n",
    "class_weights_dict = {0: weights[0], 1: weights[1]}\n",
    "print(f\"클래스 가중치 (0: No, 1: Yes): {class_weights_dict}\")\n",
    "\n",
    "\n",
    "# --- 5. ★★★ 딥러닝 모델 구축 (Keras) ★★★ ---\n",
    "print(\"\\n--- 1. 딥러닝 모델 구축 중... ---\")\n",
    "\n",
    "model = Sequential()\n",
    "# 입력층 (6개 특성) -> 16개 노드로\n",
    "model.add(Dense(16, activation='relu', input_shape=(X_train_scaled.shape[1],)))\n",
    "# 과적합 방지를 위한 Dropout (노드 50% 비활성화)\n",
    "model.add(Dropout(0.5))\n",
    "# 은닉층 (16개 -> 8개 노드로)\n",
    "model.add(Dense(8, activation='relu'))\n",
    "# 출력층 (1개 노드, 0~1 사이 확률 출력)\n",
    "model.add(Dense(1, activation='sigmoid'))\n",
    "\n",
    "# 모델 컴파일 (학습 방식 설정)\n",
    "model.compile(\n",
    "    optimizer='adam',                # 옵티마이저\n",
    "    loss='binary_crossentropy',      # 0/1 분류 손실 함수\n",
    "    metrics=['accuracy']             # 평가 지표\n",
    ")\n",
    "model.summary() # 모델 구조 출력\n",
    "\n",
    "# --- 6. ★★★ 딥러닝 모델 학습 ★★★ ---\n",
    "print(\"\\n--- 2. 딥러닝 모델 학습 중... ---\")\n",
    "# 50번 반복 학습\n",
    "history = model.fit(\n",
    "    X_train_scaled,\n",
    "    y_train,\n",
    "    epochs=50,                       # 50번 반복 학습\n",
    "    batch_size=32,                   # 32개씩 묶어서 학습\n",
    "    validation_data=(X_test_scaled, y_test), # 매번 테스트셋으로 검증\n",
    "    class_weight=class_weights_dict, # 불균형 가중치 적용\n",
    "    verbose=0                        # 학습 과정 상세 출력 (1로 바꾸면 다 보임)\n",
    ")\n",
    "print(\"학습 완료.\")\n",
    "\n",
    "# --- 7. ★★★ 딥러닝 모델 평가 ★★★ ---\n",
    "print(\"\\n--- 3. 딥러닝 모델 평가 (테스트 데이터) ---\")\n",
    "# 테스트 데이터로 최종 성능 평가\n",
    "loss, accuracy = model.evaluate(X_test_scaled, y_test, verbose=0)\n",
    "print(f\"모델 정확도(Accuracy): {accuracy * 100:.2f}%\")\n",
    "\n",
    "# 예측 (0.5 이상이면 1, 아니면 0)\n",
    "y_pred_proba = model.predict(X_test_scaled)\n",
    "y_pred = (y_pred_proba > 0.5).astype(int)\n",
    "\n",
    "# 분류 리포트 (로지스틱 회귀와 동일)\n",
    "print(\"\\n[분류 리포트 (Classification Report)]\")\n",
    "print(classification_report(y_test, y_pred, target_names=['No Tsunami (0)', 'Tsunami (1)']))\n",
    "\n",
    "# 혼동 행렬 (로지스틱 회귀와 동일)\n",
    "print(\"\\n[혼동 행렬 (Confusion Matrix)]\")\n",
    "cm = confusion_matrix(y_test, y_pred)\n",
    "print(cm)"
   ],
   "outputs": [
    {
     "name": "stdout",
     "output_type": "stream",
     "text": [
      "'../../DataPreprocessing/earthquake/3차 전처리 - 단층 이동 데이터/TEST_train_data_final_with_fault_counts_past_year_full_month.csv' 파일 (총 782행)을 성공적으로 불러왔습니다.\n",
      "\n",
      "총 782개의 데이터로 모델링을 시작합니다.\n",
      "훈련 데이터: 625개 / 테스트 데이터: 157개\n",
      "클래스 가중치 (0: No, 1: Yes): {0: np.float64(0.8180628272251309), 1: np.float64(1.286008230452675)}\n",
      "\n",
      "--- 1. 딥러닝 모델 구축 중... ---\n"
     ]
    },
    {
     "name": "stderr",
     "output_type": "stream",
     "text": [
      "C:\\Python1\\Python313\\Lib\\site-packages\\keras\\src\\layers\\core\\dense.py:95: UserWarning: Do not pass an `input_shape`/`input_dim` argument to a layer. When using Sequential models, prefer using an `Input(shape)` object as the first layer in the model instead.\n",
      "  super().__init__(activity_regularizer=activity_regularizer, **kwargs)\n"
     ]
    },
    {
     "data": {
      "text/plain": [
       "\u001B[1mModel: \"sequential\"\u001B[0m\n"
      ],
      "text/html": [
       "<pre style=\"white-space:pre;overflow-x:auto;line-height:normal;font-family:Menlo,'DejaVu Sans Mono',consolas,'Courier New',monospace\"><span style=\"font-weight: bold\">Model: \"sequential\"</span>\n",
       "</pre>\n"
      ]
     },
     "metadata": {},
     "output_type": "display_data",
     "jetTransient": {
      "display_id": null
     }
    },
    {
     "data": {
      "text/plain": [
       "┏━━━━━━━━━━━━━━━━━━━━━━━━━━━━━━━━━┳━━━━━━━━━━━━━━━━━━━━━━━━┳━━━━━━━━━━━━━━━┓\n",
       "┃\u001B[1m \u001B[0m\u001B[1mLayer (type)                   \u001B[0m\u001B[1m \u001B[0m┃\u001B[1m \u001B[0m\u001B[1mOutput Shape          \u001B[0m\u001B[1m \u001B[0m┃\u001B[1m \u001B[0m\u001B[1m      Param #\u001B[0m\u001B[1m \u001B[0m┃\n",
       "┡━━━━━━━━━━━━━━━━━━━━━━━━━━━━━━━━━╇━━━━━━━━━━━━━━━━━━━━━━━━╇━━━━━━━━━━━━━━━┩\n",
       "│ dense (\u001B[38;5;33mDense\u001B[0m)                   │ (\u001B[38;5;45mNone\u001B[0m, \u001B[38;5;34m16\u001B[0m)             │           \u001B[38;5;34m112\u001B[0m │\n",
       "├─────────────────────────────────┼────────────────────────┼───────────────┤\n",
       "│ dropout (\u001B[38;5;33mDropout\u001B[0m)               │ (\u001B[38;5;45mNone\u001B[0m, \u001B[38;5;34m16\u001B[0m)             │             \u001B[38;5;34m0\u001B[0m │\n",
       "├─────────────────────────────────┼────────────────────────┼───────────────┤\n",
       "│ dense_1 (\u001B[38;5;33mDense\u001B[0m)                 │ (\u001B[38;5;45mNone\u001B[0m, \u001B[38;5;34m8\u001B[0m)              │           \u001B[38;5;34m136\u001B[0m │\n",
       "├─────────────────────────────────┼────────────────────────┼───────────────┤\n",
       "│ dense_2 (\u001B[38;5;33mDense\u001B[0m)                 │ (\u001B[38;5;45mNone\u001B[0m, \u001B[38;5;34m1\u001B[0m)              │             \u001B[38;5;34m9\u001B[0m │\n",
       "└─────────────────────────────────┴────────────────────────┴───────────────┘\n"
      ],
      "text/html": [
       "<pre style=\"white-space:pre;overflow-x:auto;line-height:normal;font-family:Menlo,'DejaVu Sans Mono',consolas,'Courier New',monospace\">┏━━━━━━━━━━━━━━━━━━━━━━━━━━━━━━━━━┳━━━━━━━━━━━━━━━━━━━━━━━━┳━━━━━━━━━━━━━━━┓\n",
       "┃<span style=\"font-weight: bold\"> Layer (type)                    </span>┃<span style=\"font-weight: bold\"> Output Shape           </span>┃<span style=\"font-weight: bold\">       Param # </span>┃\n",
       "┡━━━━━━━━━━━━━━━━━━━━━━━━━━━━━━━━━╇━━━━━━━━━━━━━━━━━━━━━━━━╇━━━━━━━━━━━━━━━┩\n",
       "│ dense (<span style=\"color: #0087ff; text-decoration-color: #0087ff\">Dense</span>)                   │ (<span style=\"color: #00d7ff; text-decoration-color: #00d7ff\">None</span>, <span style=\"color: #00af00; text-decoration-color: #00af00\">16</span>)             │           <span style=\"color: #00af00; text-decoration-color: #00af00\">112</span> │\n",
       "├─────────────────────────────────┼────────────────────────┼───────────────┤\n",
       "│ dropout (<span style=\"color: #0087ff; text-decoration-color: #0087ff\">Dropout</span>)               │ (<span style=\"color: #00d7ff; text-decoration-color: #00d7ff\">None</span>, <span style=\"color: #00af00; text-decoration-color: #00af00\">16</span>)             │             <span style=\"color: #00af00; text-decoration-color: #00af00\">0</span> │\n",
       "├─────────────────────────────────┼────────────────────────┼───────────────┤\n",
       "│ dense_1 (<span style=\"color: #0087ff; text-decoration-color: #0087ff\">Dense</span>)                 │ (<span style=\"color: #00d7ff; text-decoration-color: #00d7ff\">None</span>, <span style=\"color: #00af00; text-decoration-color: #00af00\">8</span>)              │           <span style=\"color: #00af00; text-decoration-color: #00af00\">136</span> │\n",
       "├─────────────────────────────────┼────────────────────────┼───────────────┤\n",
       "│ dense_2 (<span style=\"color: #0087ff; text-decoration-color: #0087ff\">Dense</span>)                 │ (<span style=\"color: #00d7ff; text-decoration-color: #00d7ff\">None</span>, <span style=\"color: #00af00; text-decoration-color: #00af00\">1</span>)              │             <span style=\"color: #00af00; text-decoration-color: #00af00\">9</span> │\n",
       "└─────────────────────────────────┴────────────────────────┴───────────────┘\n",
       "</pre>\n"
      ]
     },
     "metadata": {},
     "output_type": "display_data",
     "jetTransient": {
      "display_id": null
     }
    },
    {
     "data": {
      "text/plain": [
       "\u001B[1m Total params: \u001B[0m\u001B[38;5;34m257\u001B[0m (1.00 KB)\n"
      ],
      "text/html": [
       "<pre style=\"white-space:pre;overflow-x:auto;line-height:normal;font-family:Menlo,'DejaVu Sans Mono',consolas,'Courier New',monospace\"><span style=\"font-weight: bold\"> Total params: </span><span style=\"color: #00af00; text-decoration-color: #00af00\">257</span> (1.00 KB)\n",
       "</pre>\n"
      ]
     },
     "metadata": {},
     "output_type": "display_data",
     "jetTransient": {
      "display_id": null
     }
    },
    {
     "data": {
      "text/plain": [
       "\u001B[1m Trainable params: \u001B[0m\u001B[38;5;34m257\u001B[0m (1.00 KB)\n"
      ],
      "text/html": [
       "<pre style=\"white-space:pre;overflow-x:auto;line-height:normal;font-family:Menlo,'DejaVu Sans Mono',consolas,'Courier New',monospace\"><span style=\"font-weight: bold\"> Trainable params: </span><span style=\"color: #00af00; text-decoration-color: #00af00\">257</span> (1.00 KB)\n",
       "</pre>\n"
      ]
     },
     "metadata": {},
     "output_type": "display_data",
     "jetTransient": {
      "display_id": null
     }
    },
    {
     "data": {
      "text/plain": [
       "\u001B[1m Non-trainable params: \u001B[0m\u001B[38;5;34m0\u001B[0m (0.00 B)\n"
      ],
      "text/html": [
       "<pre style=\"white-space:pre;overflow-x:auto;line-height:normal;font-family:Menlo,'DejaVu Sans Mono',consolas,'Courier New',monospace\"><span style=\"font-weight: bold\"> Non-trainable params: </span><span style=\"color: #00af00; text-decoration-color: #00af00\">0</span> (0.00 B)\n",
       "</pre>\n"
      ]
     },
     "metadata": {},
     "output_type": "display_data",
     "jetTransient": {
      "display_id": null
     }
    },
    {
     "name": "stdout",
     "output_type": "stream",
     "text": [
      "\n",
      "--- 2. 딥러닝 모델 학습 중... ---\n",
      "학습 완료.\n",
      "\n",
      "--- 3. 딥러닝 모델 평가 (테스트 데이터) ---\n",
      "모델 정확도(Accuracy): 59.87%\n",
      "\u001B[1m5/5\u001B[0m \u001B[32m━━━━━━━━━━━━━━━━━━━━\u001B[0m\u001B[37m\u001B[0m \u001B[1m0s\u001B[0m 7ms/step \n",
      "\n",
      "[분류 리포트 (Classification Report)]\n",
      "                precision    recall  f1-score   support\n",
      "\n",
      "No Tsunami (0)       0.75      0.52      0.61        96\n",
      "   Tsunami (1)       0.49      0.72      0.58        61\n",
      "\n",
      "      accuracy                           0.60       157\n",
      "     macro avg       0.62      0.62      0.60       157\n",
      "  weighted avg       0.65      0.60      0.60       157\n",
      "\n",
      "\n",
      "[혼동 행렬 (Confusion Matrix)]\n",
      "[[50 46]\n",
      " [17 44]]\n"
     ]
    }
   ],
   "execution_count": 1
  }
 ],
 "metadata": {
  "kernelspec": {
   "display_name": "Python 3",
   "language": "python",
   "name": "python3"
  },
  "language_info": {
   "codemirror_mode": {
    "name": "ipython",
    "version": 2
   },
   "file_extension": ".py",
   "mimetype": "text/x-python",
   "name": "python",
   "nbconvert_exporter": "python",
   "pygments_lexer": "ipython2",
   "version": "2.7.6"
  }
 },
 "nbformat": 4,
 "nbformat_minor": 5
}
