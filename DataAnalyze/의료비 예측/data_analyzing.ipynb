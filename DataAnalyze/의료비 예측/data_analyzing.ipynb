{
 "cells": [
  {
   "cell_type": "code",
   "id": "initial_id",
   "metadata": {
    "collapsed": true,
    "ExecuteTime": {
     "end_time": "2025-10-30T04:54:16.337365Z",
     "start_time": "2025-10-30T04:54:16.249776Z"
    }
   },
   "source": [
    "import pandas as pd\n",
    "import numpy as np\n",
    "from sklearn.model_selection import train_test_split\n",
    "from sklearn.linear_model import LinearRegression\n",
    "from sklearn.metrics import r2_score\n",
    "import warnings\n",
    "\n",
    "# 경고 메시지 무시\n",
    "warnings.filterwarnings('ignore')\n",
    "\n",
    "# --- 1. Pycharm용 코드 시작 ---\n",
    "\n",
    "# 입력 파일 이름\n",
    "input_filename = \"processed_medical_insurance_v3.csv\"\n",
    "\n",
    "print(f\"--- 다중 선형회귀 분석 (로그 변환 없음) ---\")\n",
    "print(f\"데이터 파일: {input_filename}\")\n",
    "\n",
    "try:\n",
    "    # --- 2. 데이터 로드 ---\n",
    "    df = pd.read_csv(input_filename)\n",
    "\n",
    "    # --- 3. 결측치 처리 (중요) ---\n",
    "    # LinearRegression 모델은 NaN(결측치) 값을 처리할 수 없습니다.\n",
    "    # 'sex'와 'alcohol_freq'에 결측치가 있으므로, 해당 행들을 제거합니다.\n",
    "    original_rows = len(df)\n",
    "    df_processed = df.dropna()\n",
    "    processed_rows = len(df_processed)\n",
    "\n",
    "    if df_processed.empty:\n",
    "        print(\"오류: 결측치 제거 후 분석할 데이터가 남지 않았습니다.\")\n",
    "    else:\n",
    "        print(f\"원본 데이터: {original_rows} 행, 결측치 제거 후: {processed_rows} 행\")\n",
    "\n",
    "        # --- 4. X (독립변수) 와 Y (종속변수) 정의 ---\n",
    "\n",
    "        # Y (종속변수) - 로그 변환 없음 (사용자 요청)\n",
    "        Y = df_processed['annual_medical_cost']\n",
    "\n",
    "        # X (독립변수) - Y값을 제외한 모든 변수\n",
    "        X = df_processed.drop(columns=['annual_medical_cost'])\n",
    "\n",
    "        # --- 5. 훈련/테스트 데이터 분리 ---\n",
    "        X_train, X_test, y_train, y_test = train_test_split(X, Y, test_size=0.2, random_state=42)\n",
    "\n",
    "        # --- 6. 다중 선형회귀 모델 훈련 ---\n",
    "        model = LinearRegression()\n",
    "        model.fit(X_train, y_train)\n",
    "\n",
    "        # --- 7. 모델 평가 (상관관계 확인) ---\n",
    "\n",
    "        # 1) R-squared (R²) 점수: 모델의 전체 설명력\n",
    "        y_pred = model.predict(X_test)\n",
    "        r2 = r2_score(y_test, y_pred)\n",
    "\n",
    "        print(f\"\\n--- 분석 결과 ---\")\n",
    "        print(f\"모델 R-squared (설명력): {r2:.4f}\")\n",
    "\n",
    "        # 2) Coefficients (계수): 각 변수가 Y에 미치는 영향력\n",
    "        print(\"\\n--- 변수별 계수 (영향력) ---\")\n",
    "        coefficients = pd.Series(model.coef_, index=X.columns)\n",
    "        print(coefficients)\n",
    "\n",
    "except FileNotFoundError:\n",
    "    print(f\"오류: '{input_filename}' 파일을 찾을 수 없습니다.\")\n",
    "    print(\"Pycharm에서 .py 스크립트와 .csv 파일이 같은 폴더에 있는지 확인하세요.\")\n",
    "except Exception as e:\n",
    "    print(f\"알 수 없는 오류가 발생했습니다: {e}\")\n",
    "\n",
    "# --- Pycharm용 코드 끝 ---"
   ],
   "outputs": [
    {
     "name": "stdout",
     "output_type": "stream",
     "text": [
      "--- 다중 선형회귀 분석 (로그 변환 없음) ---\n",
      "데이터 파일: processed_medical_insurance_v3.csv\n",
      "원본 데이터: 68515 행, 결측치 제거 후: 68515 행\n",
      "\n",
      "--- 분석 결과 ---\n",
      "모델 R-squared (설명력): 0.0662\n",
      "\n",
      "--- 변수별 계수 (영향력) ---\n",
      "age                  23.527032\n",
      "sex                  20.453722\n",
      "urban_rural         -11.622559\n",
      "bmi                  27.268678\n",
      "alcohol_freq         -5.769955\n",
      "visits_last_year    337.924858\n",
      "smoker_Current      937.037094\n",
      "smoker_Former      -279.820664\n",
      "smoker_Never       -657.216430\n",
      "dtype: float64\n"
     ]
    }
   ],
   "execution_count": 5
  }
 ],
 "metadata": {
  "kernelspec": {
   "display_name": "Python 3",
   "language": "python",
   "name": "python3"
  },
  "language_info": {
   "codemirror_mode": {
    "name": "ipython",
    "version": 2
   },
   "file_extension": ".py",
   "mimetype": "text/x-python",
   "name": "python",
   "nbconvert_exporter": "python",
   "pygments_lexer": "ipython2",
   "version": "2.7.6"
  }
 },
 "nbformat": 4,
 "nbformat_minor": 5
}
